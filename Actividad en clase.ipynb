{
  "metadata": {
    "kernelspec": {
      "name": "python",
      "display_name": "Python (Pyodide)",
      "language": "python"
    },
    "language_info": {
      "codemirror_mode": {
        "name": "python",
        "version": 3
      },
      "file_extension": ".py",
      "mimetype": "text/x-python",
      "name": "python",
      "nbconvert_exporter": "python",
      "pygments_lexer": "ipython3",
      "version": "3.8"
    }
  },
  "nbformat_minor": 4,
  "nbformat": 4,
  "cells": [
    {
      "cell_type": "markdown",
      "source": "# Simulación Matemática",
      "metadata": {}
    },
    {
      "cell_type": "code",
      "source": "1 + 1",
      "metadata": {
        "trusted": true
      },
      "outputs": [
        {
          "execution_count": 9,
          "output_type": "execute_result",
          "data": {
            "text/plain": "2"
          },
          "metadata": {}
        }
      ],
      "execution_count": 9
    },
    {
      "cell_type": "markdown",
      "source": "# Chocolates",
      "metadata": {}
    },
    {
      "cell_type": "markdown",
      "source": "La importancia de los chocolates en la cultura azteca",
      "metadata": {}
    },
    {
      "cell_type": "markdown",
      "source": "## Calificacion de chocolare de acuerdo al grupo",
      "metadata": {}
    },
    {
      "cell_type": "markdown",
      "source": "* Blanco: $8.5$\n* Negro\n* Con leche \n* Con almendras\n* Confitado",
      "metadata": {}
    },
    {
      "cell_type": "markdown",
      "source": "De los chocolares anteriormente descritos, mi orden de preferencia es:\n1. Blanco\n2. Negro\n3. Con leche\n4. Con almendras\n5. Confitado",
      "metadata": {}
    },
    {
      "cell_type": "markdown",
      "source": "Emdiante métodos heurísticos se aprendióo que la ecuación del chocolate es:\n$$ chocolate(x,y) = \\frac{x^2 + \\sqrt{y^2}}{e^{2x + y}} $$",
      "metadata": {}
    },
    {
      "cell_type": "markdown",
      "source": "$$ \\frac{numerador}{denominador} $$",
      "metadata": {}
    },
    {
      "cell_type": "markdown",
      "source": "$$ \\sqrt{adentro} fuera $$",
      "metadata": {}
    },
    {
      "cell_type": "markdown",
      "source": "$$ e^{expresion^2} $$",
      "metadata": {}
    },
    {
      "cell_type": "markdown",
      "source": "$$ \\alpha \\delta \\omega $$    ",
      "metadata": {}
    },
    {
      "cell_type": "code",
      "source": "",
      "metadata": {
        "trusted": true
      },
      "outputs": [],
      "execution_count": null
    }
  ]
}